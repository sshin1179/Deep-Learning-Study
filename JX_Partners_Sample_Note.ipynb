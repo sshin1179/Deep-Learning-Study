{
  "nbformat": 4,
  "nbformat_minor": 0,
  "metadata": {
    "colab": {
      "private_outputs": true,
      "provenance": [],
      "authorship_tag": "ABX9TyOcybxkPidGHvrEDSa4liQb",
      "include_colab_link": true
    },
    "kernelspec": {
      "name": "python3",
      "display_name": "Python 3"
    },
    "language_info": {
      "name": "python"
    }
  },
  "cells": [
    {
      "cell_type": "markdown",
      "metadata": {
        "id": "view-in-github",
        "colab_type": "text"
      },
      "source": [
        "<a href=\"https://colab.research.google.com/github/sshin1179/Deep-Learning-Study/blob/main/JX_Partners_Sample_Note.ipynb\" target=\"_parent\"><img src=\"https://colab.research.google.com/assets/colab-badge.svg\" alt=\"Open In Colab\"/></a>"
      ]
    },
    {
      "cell_type": "markdown",
      "source": [
        "# JX Partners Project: 기업의 상장 후 주가 움직임 분석\n",
        "- 2023년 1월-12월 사이에 상장한 기업들의 주가 움직임을 분석\n",
        "- 데이터는 [KRX 정보데이터시스템 -> IPO 관련 통계 -> 공모가 대비 등락률](http://data.krx.co.kr/contents/MDC/MDI/mdiLoader/index.cmd?menuId=MDC02020103)에서 활용"
      ],
      "metadata": {
        "id": "F_Ek0g-mQaQp"
      }
    },
    {
      "cell_type": "code",
      "source": [
        "import pandas as pd\n",
        "import yfinance as yf\n",
        "from datetime import timedelta\n",
        "\n",
        "def prepare(start=\"2023-01-01\", end=\"2023-12-31\"):\n",
        "    from google.colab import files\n",
        "\n",
        "    # Upload and load the Excel file containing stock data\n",
        "    uploaded = files.upload()\n",
        "    df = pd.read_excel('practice.xlsx')\n",
        "\n",
        "    # Filter out SPAC stocks\n",
        "    df = df[~df['종목명'].str.contains('스팩')]\n",
        "\n",
        "    # Format stock codes and create a dictionary of stock names and codes\n",
        "    stock_info = df[['종목명', '종목코드', '공모가(D)', '상장일_종가']].copy()\n",
        "    stock_info['종목코드'] = stock_info['종목코드'].apply(lambda x: '0' + str(x) + '.KS' if len(str(x)) < 6 else str(x) + '.KS')\n",
        "\n",
        "    stock_dict = dict(zip(stock_info['종목명'], stock_info[['종목코드', '공모가(D)', '상장일_종가']].values))\n",
        "\n",
        "    return stock_dict\n",
        "\n",
        "def measure_downside_risk(start=\"2023-01-01\", end=\"2023-12-31\", positive_only=False):\n",
        "    # Initialize an empty DataFrame and list for price changes\n",
        "    all_stocks_data = pd.DataFrame()\n",
        "    price_changes = []\n",
        "\n",
        "    # Retrieve stock data\n",
        "    stocks_dict = prepare(start, end)\n",
        "\n",
        "    # Download historical data and compute downside risk\n",
        "    for stock_name, (stock_symbol, ipo_price, initial_price) in stocks_dict.items():\n",
        "        try:\n",
        "            stock_data = yf.download(stock_symbol, start=start, end=end, progress=False)  # Disable progress bar\n",
        "            stock_data['Stock Name'] = stock_name\n",
        "            all_stocks_data = pd.concat([all_stocks_data, stock_data])\n",
        "\n",
        "            # Calculate prices at the start, one month later, and three months later\n",
        "            first_date = stock_data.index[0]\n",
        "            one_month_later = first_date + timedelta(days=30)\n",
        "            three_months_later = first_date + timedelta(days=90)\n",
        "\n",
        "            first_price = stock_data.loc[first_date]['Close']\n",
        "            one_month_later_price = stock_data.loc[stock_data.index >= one_month_later].iloc[0]['Close'] if stock_data.index[-1] >= one_month_later else None\n",
        "            three_months_later_price = stock_data.loc[stock_data.index >= three_months_later].iloc[0]['Close'] if stock_data.index[-1] >= three_months_later else None\n",
        "\n",
        "            if one_month_later_price and three_months_later_price:\n",
        "                one_month_change = ((one_month_later_price - first_price) / first_price) * 100\n",
        "                three_months_change = ((three_months_later_price - first_price) / first_price) * 100\n",
        "\n",
        "                # Calculate the difference between IPO price and initial price\n",
        "                ipo_initial_diff = initial_price - ipo_price\n",
        "\n",
        "                # Filter stocks based on positive_only parameter\n",
        "                if positive_only and (one_month_change < 0 or three_months_change < 0):\n",
        "                    continue  # Skip stocks with negative changes if positive_only is set to True\n",
        "\n",
        "                # Append the data for the stock\n",
        "                price_changes.append({\n",
        "                    'Stock': stock_name,\n",
        "                    'IPO Price': ipo_price,\n",
        "                    'Initial Price': initial_price,\n",
        "                    'IPO-Initial Diff': ipo_initial_diff,\n",
        "                    'First Price': first_price,\n",
        "                    '1 Month Later Price': one_month_later_price,\n",
        "                    '1 Month Change (%)': one_month_change,\n",
        "                    '3 Months Later Price': three_months_later_price,\n",
        "                    '3 Months Change (%)': three_months_change\n",
        "                })\n",
        "\n",
        "        except Exception as e:\n",
        "            print(f\"Error downloading data for {stock_name} ({stock_symbol}): {e}\")\n",
        "\n",
        "    # Convert the results into a DataFrame\n",
        "    price_changes_df = pd.DataFrame(price_changes)\n",
        "\n",
        "    # Save the DataFrame to an Excel file with the appropriate name based on the positive_only flag\n",
        "    file_name = \"downside risk analysis_positive only.xlsx\" if positive_only else \"downside risk analysis_negative included.xlsx\"\n",
        "    price_changes_df.to_excel(file_name, index=False)"
      ],
      "metadata": {
        "id": "b2NI2sFUQHy4"
      },
      "execution_count": null,
      "outputs": []
    },
    {
      "cell_type": "markdown",
      "source": [
        "### Downside Risk Measurement"
      ],
      "metadata": {
        "id": "4RVIfZ2w2p2q"
      }
    },
    {
      "cell_type": "code",
      "source": [
        "measure_downside_risk(start=\"2023-01-01\", end=\"2023-12-31\", positive_only=False)"
      ],
      "metadata": {
        "id": "zQlmERXi-pLl"
      },
      "execution_count": null,
      "outputs": []
    },
    {
      "cell_type": "code",
      "source": [
        "measure_downside_risk(start=\"2023-01-01\", end=\"2023-12-31\", positive_only=True)"
      ],
      "metadata": {
        "id": "s9Yv2xGB9V4t"
      },
      "execution_count": null,
      "outputs": []
    }
  ]
}